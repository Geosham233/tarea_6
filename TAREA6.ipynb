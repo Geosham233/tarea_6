{
 "cells": [
  {
   "attachments": {},
   "cell_type": "markdown",
   "metadata": {},
   "source": [
    "TAREA 6. CIENCIA DE DATOS"
   ]
  },
  {
   "cell_type": "code",
   "execution_count": null,
   "metadata": {},
   "outputs": [],
   "source": [
    "# importamos las librerias que usaremos\n",
    "\n",
    "import pandas as pd\n",
    "import numpy as np\n",
    "import matplotlib as mpl\n",
    "import matplotlib.pyplot as plt\n",
    "import statistics as st\n",
    "\n",
    "#cargamos el archivo CSV y mostramos los primeros 10 datos \n",
    "    \n",
    "dataFrame = pd.read_csv(\"C:/Users/Seiya/OneDrive - INSTITUTO TECNOLOGICO DE MERIDA/Documentos/8_semestre/Ciencia de datos/CienciaDatos/peliculas.csv\")\n",
    "dataFrame.head(50)"
   ]
  }
 ],
 "metadata": {
  "kernelspec": {
   "display_name": "Python 3",
   "language": "python",
   "name": "python3"
  },
  "language_info": {
   "name": "python",
   "version": "3.11.3"
  },
  "orig_nbformat": 4
 },
 "nbformat": 4,
 "nbformat_minor": 2
}
